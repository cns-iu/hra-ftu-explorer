{
 "cells": [
  {
   "cell_type": "code",
   "execution_count": null,
   "id": "be73b922-caae-484a-ade3-39b42abce6f5",
   "metadata": {},
   "outputs": [],
   "source": []
  }
 ],
 "metadata": {
  "kernelspec": {
   "display_name": "",
   "name": ""
  },
  "language_info": {
   "name": ""
  }
 },
 "nbformat": 4,
 "nbformat_minor": 5
}
