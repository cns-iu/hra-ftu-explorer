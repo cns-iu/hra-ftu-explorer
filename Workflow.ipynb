{
 "cells": [
  {
   "cell_type": "markdown",
   "id": "bedbbce1-2be8-48f7-8316-8e9b725f7a78",
   "metadata": {},
   "source": [
    "### Workflow\n",
    "\n",
    "Figma diagram: https://www.figma.com/file/PFKdJO3HTIcM9g4nmVONCT/HRA-Data-Explorer?type=whiteboard&node-id=1%3A108&t=XGoN91s7IKbyZ7xk-1\n",
    "\n",
    "Below is the information about the diagram:\n",
    "\n",
    "1. Dataset Collections:\n",
    "The process begins with RUI Registered Tissue datasets, a collection of tissue datasets registered in a specific repository or database.\n",
    "These datasets are linked to specific Organs and Anatomical Structures.\n",
    "\n",
    "2. Dataset Processing:\n",
    "The datasets are processed to produce Anatomical Structures/Cell type information of 2D FTUs.\n",
    "There is a decision point or a step to possibly sort these structures, which leads to the extraction of a Cell Summary, including cell type biomarker gene expression data.\n",
    "\n",
    "3. Data Analysis Questions:\n",
    "A set of analytical questions are posed:\n",
    "a. How to deal with common cell types across different FTUs?\n",
    "b. How to handle cell types explicitly local to FTUs or around them?\n",
    "c. Whether or not to include all cell types in the analysis?\n",
    "d. How to approach any tissue overlap (should considered an advanced problem?)?\n",
    "\n",
    "4. Cell Type Mapping:\n",
    "list of 2D FTUs are used to map Cell Types, leading to a set of inquiries on how to best extract data from the datasets used in Step 1 and 2.\n"
   ]
  },
  {
   "cell_type": "code",
   "execution_count": null,
   "id": "1f33bc99-7ab4-4eb1-8f39-d95f12ab2523",
   "metadata": {},
   "outputs": [],
   "source": []
  }
 ],
 "metadata": {
  "kernelspec": {
   "display_name": "Python 3 (ipykernel)",
   "language": "python",
   "name": "python3"
  },
  "language_info": {
   "codemirror_mode": {
    "name": "ipython",
    "version": 3
   },
   "file_extension": ".py",
   "mimetype": "text/x-python",
   "name": "python",
   "nbconvert_exporter": "python",
   "pygments_lexer": "ipython3",
   "version": "3.9.13"
  }
 },
 "nbformat": 4,
 "nbformat_minor": 5
}
